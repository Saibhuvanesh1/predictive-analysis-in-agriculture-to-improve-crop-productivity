{
 "cells": [
  {
   "cell_type": "code",
   "execution_count": 2,
   "metadata": {},
   "outputs": [],
   "source": [
    "# Importing the libraries\n",
    "import numpy as np\n",
    "import matplotlib.pyplot as plt\n",
    "import pandas as pd\n"
   ]
  },
  {
   "cell_type": "code",
   "execution_count": 3,
   "metadata": {},
   "outputs": [
    {
     "data": {
      "text/html": [
       "<div>\n",
       "<style scoped>\n",
       "    .dataframe tbody tr th:only-of-type {\n",
       "        vertical-align: middle;\n",
       "    }\n",
       "\n",
       "    .dataframe tbody tr th {\n",
       "        vertical-align: top;\n",
       "    }\n",
       "\n",
       "    .dataframe thead th {\n",
       "        text-align: right;\n",
       "    }\n",
       "</style>\n",
       "<table border=\"1\" class=\"dataframe\">\n",
       "  <thead>\n",
       "    <tr style=\"text-align: right;\">\n",
       "      <th></th>\n",
       "      <th>Crop</th>\n",
       "      <th>State</th>\n",
       "      <th>Cost of Cultivation (`/Hectare) A2+FL</th>\n",
       "      <th>Cost of Cultivation (`/Hectare) C2</th>\n",
       "      <th>Cost of Production (`/Quintal) C2</th>\n",
       "      <th>Yield (Quintal/ Hectare)</th>\n",
       "    </tr>\n",
       "  </thead>\n",
       "  <tbody>\n",
       "    <tr>\n",
       "      <th>0</th>\n",
       "      <td>ARHAR</td>\n",
       "      <td>Uttar Pradesh</td>\n",
       "      <td>9794.05</td>\n",
       "      <td>23076.74</td>\n",
       "      <td>1941.55</td>\n",
       "      <td>9.83</td>\n",
       "    </tr>\n",
       "    <tr>\n",
       "      <th>1</th>\n",
       "      <td>ARHAR</td>\n",
       "      <td>Karnataka</td>\n",
       "      <td>10593.15</td>\n",
       "      <td>16528.68</td>\n",
       "      <td>2172.46</td>\n",
       "      <td>7.47</td>\n",
       "    </tr>\n",
       "    <tr>\n",
       "      <th>2</th>\n",
       "      <td>ARHAR</td>\n",
       "      <td>Gujarat</td>\n",
       "      <td>13468.82</td>\n",
       "      <td>19551.90</td>\n",
       "      <td>1898.30</td>\n",
       "      <td>9.59</td>\n",
       "    </tr>\n",
       "    <tr>\n",
       "      <th>3</th>\n",
       "      <td>ARHAR</td>\n",
       "      <td>Andhra Pradesh</td>\n",
       "      <td>17051.66</td>\n",
       "      <td>24171.65</td>\n",
       "      <td>3670.54</td>\n",
       "      <td>6.42</td>\n",
       "    </tr>\n",
       "    <tr>\n",
       "      <th>4</th>\n",
       "      <td>ARHAR</td>\n",
       "      <td>Maharashtra</td>\n",
       "      <td>17130.55</td>\n",
       "      <td>25270.26</td>\n",
       "      <td>2775.80</td>\n",
       "      <td>8.72</td>\n",
       "    </tr>\n",
       "  </tbody>\n",
       "</table>\n",
       "</div>"
      ],
      "text/plain": [
       "    Crop           State  Cost of Cultivation (`/Hectare) A2+FL  \\\n",
       "0  ARHAR   Uttar Pradesh                                9794.05   \n",
       "1  ARHAR       Karnataka                               10593.15   \n",
       "2  ARHAR         Gujarat                               13468.82   \n",
       "3  ARHAR  Andhra Pradesh                               17051.66   \n",
       "4  ARHAR     Maharashtra                               17130.55   \n",
       "\n",
       "   Cost of Cultivation (`/Hectare) C2  Cost of Production (`/Quintal) C2  \\\n",
       "0                            23076.74                            1941.55   \n",
       "1                            16528.68                            2172.46   \n",
       "2                            19551.90                            1898.30   \n",
       "3                            24171.65                            3670.54   \n",
       "4                            25270.26                            2775.80   \n",
       "\n",
       "   Yield (Quintal/ Hectare)   \n",
       "0                       9.83  \n",
       "1                       7.47  \n",
       "2                       9.59  \n",
       "3                       6.42  \n",
       "4                       8.72  "
      ]
     },
     "execution_count": 3,
     "metadata": {},
     "output_type": "execute_result"
    }
   ],
   "source": [
    "# Importing the dataset\n",
    "dataset = pd.read_csv(r'C:\\Users\\dell\\downloads\\pro.csv')\n",
    "dataset.head()"
   ]
  },
  {
   "cell_type": "code",
   "execution_count": 4,
   "metadata": {},
   "outputs": [
    {
     "data": {
      "text/html": [
       "<div>\n",
       "<style scoped>\n",
       "    .dataframe tbody tr th:only-of-type {\n",
       "        vertical-align: middle;\n",
       "    }\n",
       "\n",
       "    .dataframe tbody tr th {\n",
       "        vertical-align: top;\n",
       "    }\n",
       "\n",
       "    .dataframe thead th {\n",
       "        text-align: right;\n",
       "    }\n",
       "</style>\n",
       "<table border=\"1\" class=\"dataframe\">\n",
       "  <thead>\n",
       "    <tr style=\"text-align: right;\">\n",
       "      <th></th>\n",
       "      <th>Crop</th>\n",
       "      <th>State</th>\n",
       "      <th>Cost of Cultivation (`/Hectare) A2+FL</th>\n",
       "      <th>Cost of Cultivation (`/Hectare) C2</th>\n",
       "      <th>Cost of Production (`/Quintal) C2</th>\n",
       "      <th>Yield (Quintal/ Hectare)</th>\n",
       "    </tr>\n",
       "  </thead>\n",
       "  <tbody>\n",
       "    <tr>\n",
       "      <th>0</th>\n",
       "      <td>ARHAR</td>\n",
       "      <td>11</td>\n",
       "      <td>9794.05</td>\n",
       "      <td>23076.74</td>\n",
       "      <td>1941.55</td>\n",
       "      <td>9.83</td>\n",
       "    </tr>\n",
       "    <tr>\n",
       "      <th>1</th>\n",
       "      <td>ARHAR</td>\n",
       "      <td>4</td>\n",
       "      <td>10593.15</td>\n",
       "      <td>16528.68</td>\n",
       "      <td>2172.46</td>\n",
       "      <td>7.47</td>\n",
       "    </tr>\n",
       "    <tr>\n",
       "      <th>2</th>\n",
       "      <td>ARHAR</td>\n",
       "      <td>2</td>\n",
       "      <td>13468.82</td>\n",
       "      <td>19551.90</td>\n",
       "      <td>1898.30</td>\n",
       "      <td>9.59</td>\n",
       "    </tr>\n",
       "    <tr>\n",
       "      <th>3</th>\n",
       "      <td>ARHAR</td>\n",
       "      <td>0</td>\n",
       "      <td>17051.66</td>\n",
       "      <td>24171.65</td>\n",
       "      <td>3670.54</td>\n",
       "      <td>6.42</td>\n",
       "    </tr>\n",
       "    <tr>\n",
       "      <th>4</th>\n",
       "      <td>ARHAR</td>\n",
       "      <td>6</td>\n",
       "      <td>17130.55</td>\n",
       "      <td>25270.26</td>\n",
       "      <td>2775.80</td>\n",
       "      <td>8.72</td>\n",
       "    </tr>\n",
       "  </tbody>\n",
       "</table>\n",
       "</div>"
      ],
      "text/plain": [
       "    Crop  State  Cost of Cultivation (`/Hectare) A2+FL  \\\n",
       "0  ARHAR     11                                9794.05   \n",
       "1  ARHAR      4                               10593.15   \n",
       "2  ARHAR      2                               13468.82   \n",
       "3  ARHAR      0                               17051.66   \n",
       "4  ARHAR      6                               17130.55   \n",
       "\n",
       "   Cost of Cultivation (`/Hectare) C2  Cost of Production (`/Quintal) C2  \\\n",
       "0                            23076.74                            1941.55   \n",
       "1                            16528.68                            2172.46   \n",
       "2                            19551.90                            1898.30   \n",
       "3                            24171.65                            3670.54   \n",
       "4                            25270.26                            2775.80   \n",
       "\n",
       "   Yield (Quintal/ Hectare)   \n",
       "0                       9.83  \n",
       "1                       7.47  \n",
       "2                       9.59  \n",
       "3                       6.42  \n",
       "4                       8.72  "
      ]
     },
     "execution_count": 4,
     "metadata": {},
     "output_type": "execute_result"
    }
   ],
   "source": [
    "# Encoding categorical data\n",
    "from sklearn import preprocessing\n",
    "label_encoder=preprocessing.LabelEncoder()\n",
    "dataset[\"State\"] = label_encoder.fit_transform(dataset[\"State\"])\n",
    "dataset.head()"
   ]
  },
  {
   "cell_type": "code",
   "execution_count": 5,
   "metadata": {},
   "outputs": [
    {
     "data": {
      "text/html": [
       "<div>\n",
       "<style scoped>\n",
       "    .dataframe tbody tr th:only-of-type {\n",
       "        vertical-align: middle;\n",
       "    }\n",
       "\n",
       "    .dataframe tbody tr th {\n",
       "        vertical-align: top;\n",
       "    }\n",
       "\n",
       "    .dataframe thead th {\n",
       "        text-align: right;\n",
       "    }\n",
       "</style>\n",
       "<table border=\"1\" class=\"dataframe\">\n",
       "  <thead>\n",
       "    <tr style=\"text-align: right;\">\n",
       "      <th></th>\n",
       "      <th>Crop</th>\n",
       "      <th>State</th>\n",
       "      <th>Cost of Cultivation (`/Hectare) A2+FL</th>\n",
       "      <th>Cost of Cultivation (`/Hectare) C2</th>\n",
       "      <th>Cost of Production (`/Quintal) C2</th>\n",
       "      <th>Yield (Quintal/ Hectare)</th>\n",
       "    </tr>\n",
       "  </thead>\n",
       "  <tbody>\n",
       "    <tr>\n",
       "      <th>0</th>\n",
       "      <td>0</td>\n",
       "      <td>11</td>\n",
       "      <td>9794.05</td>\n",
       "      <td>23076.74</td>\n",
       "      <td>1941.55</td>\n",
       "      <td>9.83</td>\n",
       "    </tr>\n",
       "    <tr>\n",
       "      <th>1</th>\n",
       "      <td>0</td>\n",
       "      <td>4</td>\n",
       "      <td>10593.15</td>\n",
       "      <td>16528.68</td>\n",
       "      <td>2172.46</td>\n",
       "      <td>7.47</td>\n",
       "    </tr>\n",
       "    <tr>\n",
       "      <th>2</th>\n",
       "      <td>0</td>\n",
       "      <td>2</td>\n",
       "      <td>13468.82</td>\n",
       "      <td>19551.90</td>\n",
       "      <td>1898.30</td>\n",
       "      <td>9.59</td>\n",
       "    </tr>\n",
       "    <tr>\n",
       "      <th>3</th>\n",
       "      <td>0</td>\n",
       "      <td>0</td>\n",
       "      <td>17051.66</td>\n",
       "      <td>24171.65</td>\n",
       "      <td>3670.54</td>\n",
       "      <td>6.42</td>\n",
       "    </tr>\n",
       "    <tr>\n",
       "      <th>4</th>\n",
       "      <td>0</td>\n",
       "      <td>6</td>\n",
       "      <td>17130.55</td>\n",
       "      <td>25270.26</td>\n",
       "      <td>2775.80</td>\n",
       "      <td>8.72</td>\n",
       "    </tr>\n",
       "  </tbody>\n",
       "</table>\n",
       "</div>"
      ],
      "text/plain": [
       "   Crop  State  Cost of Cultivation (`/Hectare) A2+FL  \\\n",
       "0     0     11                                9794.05   \n",
       "1     0      4                               10593.15   \n",
       "2     0      2                               13468.82   \n",
       "3     0      0                               17051.66   \n",
       "4     0      6                               17130.55   \n",
       "\n",
       "   Cost of Cultivation (`/Hectare) C2  Cost of Production (`/Quintal) C2  \\\n",
       "0                            23076.74                            1941.55   \n",
       "1                            16528.68                            2172.46   \n",
       "2                            19551.90                            1898.30   \n",
       "3                            24171.65                            3670.54   \n",
       "4                            25270.26                            2775.80   \n",
       "\n",
       "   Yield (Quintal/ Hectare)   \n",
       "0                       9.83  \n",
       "1                       7.47  \n",
       "2                       9.59  \n",
       "3                       6.42  \n",
       "4                       8.72  "
      ]
     },
     "execution_count": 5,
     "metadata": {},
     "output_type": "execute_result"
    }
   ],
   "source": [
    "# Encoding categorical data\n",
    "from sklearn import preprocessing \n",
    "label_encoder=preprocessing.LabelEncoder()\n",
    "dataset['Crop'] = label_encoder.fit_transform(dataset['Crop'])\n",
    "dataset.head()"
   ]
  },
  {
   "cell_type": "code",
   "execution_count": 6,
   "metadata": {},
   "outputs": [
    {
     "data": {
      "text/plain": [
       "array([[0.000000e+00, 1.100000e+01, 9.794050e+03, 2.307674e+04,\n",
       "        1.941550e+03],\n",
       "       [0.000000e+00, 4.000000e+00, 1.059315e+04, 1.652868e+04,\n",
       "        2.172460e+03],\n",
       "       [0.000000e+00, 2.000000e+00, 1.346882e+04, 1.955190e+04,\n",
       "        1.898300e+03],\n",
       "       [0.000000e+00, 0.000000e+00, 1.705166e+04, 2.417165e+04,\n",
       "        3.670540e+03],\n",
       "       [0.000000e+00, 6.000000e+00, 1.713055e+04, 2.527026e+04,\n",
       "        2.775800e+03],\n",
       "       [1.000000e+00, 6.000000e+00, 2.371144e+04, 3.311682e+04,\n",
       "        2.539470e+03],\n",
       "       [1.000000e+00, 8.000000e+00, 2.904710e+04, 5.082883e+04,\n",
       "        2.003760e+03],\n",
       "       [1.000000e+00, 0.000000e+00, 2.914077e+04, 4.475672e+04,\n",
       "        2.509990e+03],\n",
       "       [1.000000e+00, 2.000000e+00, 2.961609e+04, 4.207044e+04,\n",
       "        2.179260e+03],\n",
       "       [1.000000e+00, 3.000000e+00, 2.991897e+04, 4.401818e+04,\n",
       "        2.127350e+03],\n",
       "       [2.000000e+00, 9.000000e+00, 8.552690e+03, 1.261085e+04,\n",
       "        1.691660e+03],\n",
       "       [2.000000e+00, 5.000000e+00, 9.803890e+03, 1.687317e+04,\n",
       "        1.551940e+03],\n",
       "       [2.000000e+00, 1.100000e+01, 1.283304e+04, 2.161843e+04,\n",
       "        1.882680e+03],\n",
       "       [2.000000e+00, 6.000000e+00, 1.298595e+04, 1.867933e+04,\n",
       "        2.277680e+03],\n",
       "       [2.000000e+00, 0.000000e+00, 1.442198e+04, 2.676209e+04,\n",
       "        1.559040e+03],\n",
       "       [3.000000e+00, 4.000000e+00, 1.364710e+04, 1.731420e+04,\n",
       "        3.484010e+03],\n",
       "       [3.000000e+00, 0.000000e+00, 2.122901e+04, 3.043461e+04,\n",
       "        2.554910e+03],\n",
       "       [3.000000e+00, 1.000000e+01, 2.250786e+04, 3.039366e+04,\n",
       "        2.358000e+03],\n",
       "       [3.000000e+00, 2.000000e+00, 2.295128e+04, 3.011445e+04,\n",
       "        1.918920e+03],\n",
       "       [3.000000e+00, 6.000000e+00, 2.607866e+04, 3.268346e+04,\n",
       "        3.207350e+03],\n",
       "       [4.000000e+00, 1.000000e+00, 1.351392e+04, 1.985770e+04,\n",
       "        4.044300e+02],\n",
       "       [4.000000e+00, 4.000000e+00, 1.379285e+04, 2.067154e+04,\n",
       "        5.816900e+02],\n",
       "       [4.000000e+00, 9.000000e+00, 1.442146e+04, 1.981029e+04,\n",
       "        6.587700e+02],\n",
       "       [4.000000e+00, 1.100000e+01, 1.563543e+04, 2.104511e+04,\n",
       "        1.387360e+03],\n",
       "       [4.000000e+00, 0.000000e+00, 2.568709e+04, 3.780185e+04,\n",
       "        8.405800e+02],\n",
       "       [5.000000e+00, 7.000000e+00, 5.483540e+03, 8.266980e+03,\n",
       "        2.614140e+03],\n",
       "       [5.000000e+00, 9.000000e+00, 6.204230e+03, 9.165590e+03,\n",
       "        2.068670e+03],\n",
       "       [5.000000e+00, 4.000000e+00, 6.440640e+03, 7.868640e+03,\n",
       "        5.777480e+03],\n",
       "       [5.000000e+00, 0.000000e+00, 6.684180e+03, 1.320932e+04,\n",
       "        2.228970e+03],\n",
       "       [5.000000e+00, 6.000000e+00, 1.078076e+04, 1.537145e+04,\n",
       "        2.261240e+03],\n",
       "       [6.000000e+00, 1.100000e+01, 1.702200e+04, 2.814450e+04,\n",
       "        7.326200e+02],\n",
       "       [6.000000e+00, 7.000000e+00, 1.747805e+04, 2.590905e+04,\n",
       "        7.150400e+02],\n",
       "       [6.000000e+00, 1.200000e+01, 2.473106e+04, 3.304612e+04,\n",
       "        7.312500e+02],\n",
       "       [6.000000e+00, 8.000000e+00, 2.515475e+04, 4.529124e+04,\n",
       "        6.698600e+02],\n",
       "       [6.000000e+00, 0.000000e+00, 2.966484e+04, 4.645020e+04,\n",
       "        7.899000e+02],\n",
       "       [7.000000e+00, 5.000000e+00, 8.686430e+03, 1.770593e+04,\n",
       "        1.279600e+03],\n",
       "       [7.000000e+00, 9.000000e+00, 1.138570e+04, 1.925984e+04,\n",
       "        1.341290e+03],\n",
       "       [7.000000e+00, 1.100000e+01, 1.277441e+04, 2.256030e+04,\n",
       "        1.595560e+03],\n",
       "       [7.000000e+00, 2.000000e+00, 1.374064e+04, 1.908355e+04,\n",
       "        1.610400e+03],\n",
       "       [7.000000e+00, 3.000000e+00, 1.471527e+04, 2.750754e+04,\n",
       "        1.251120e+03],\n",
       "       [8.000000e+00, 1.100000e+01, 2.453832e+04, 4.523951e+04,\n",
       "        9.364000e+01],\n",
       "       [8.000000e+00, 4.000000e+00, 5.565544e+04, 8.676577e+04,\n",
       "        8.653000e+01],\n",
       "       [8.000000e+00, 0.000000e+00, 5.662116e+04, 9.144263e+04,\n",
       "        1.197200e+02],\n",
       "       [8.000000e+00, 6.000000e+00, 5.767360e+04, 8.580195e+04,\n",
       "        1.075600e+02],\n",
       "       [8.000000e+00, 1.000000e+01, 6.633506e+04, 8.902527e+04,\n",
       "        8.579000e+01],\n",
       "       [9.000000e+00, 5.000000e+00, 1.246440e+04, 2.248975e+04,\n",
       "        8.102500e+02],\n",
       "       [9.000000e+00, 8.000000e+00, 1.794558e+04, 3.542348e+04,\n",
       "        8.048000e+02],\n",
       "       [9.000000e+00, 1.100000e+01, 1.897938e+04, 3.190274e+04,\n",
       "        7.698400e+02],\n",
       "       [9.000000e+00, 9.000000e+00, 1.911908e+04, 2.987636e+04,\n",
       "        6.835800e+02]])"
      ]
     },
     "execution_count": 6,
     "metadata": {},
     "output_type": "execute_result"
    }
   ],
   "source": [
    "X = dataset.iloc[:, :5].values\n",
    "X"
   ]
  },
  {
   "cell_type": "code",
   "execution_count": 7,
   "metadata": {},
   "outputs": [
    {
     "data": {
      "text/plain": [
       "array([   9.83,    7.47,    9.59,    6.42,    8.72,   12.69,   24.39,\n",
       "         17.83,   19.05,   19.9 ,    6.83,   10.29,   10.93,    8.05,\n",
       "         16.69,    4.71,   11.97,   11.98,   13.45,    9.33,   42.95,\n",
       "         31.1 ,   23.56,   13.7 ,   42.68,    3.01,    4.05,    1.32,\n",
       "          5.9 ,    6.7 ,   36.61,   32.42,   39.04,   67.41,   56.  ,\n",
       "         12.94,   13.54,   13.57,   11.61,   19.94,  448.89,  986.21,\n",
       "        757.92,  744.01, 1015.45,   23.59,   39.83,   34.99,   37.19])"
      ]
     },
     "execution_count": 7,
     "metadata": {},
     "output_type": "execute_result"
    }
   ],
   "source": [
    "y = dataset.iloc[:, 5].values\n",
    "y"
   ]
  },
  {
   "cell_type": "code",
   "execution_count": 8,
   "metadata": {},
   "outputs": [
    {
     "data": {
      "text/plain": [
       "array([[0.000000e+00, 6.000000e+00, 1.713055e+04, 2.527026e+04,\n",
       "        2.775800e+03],\n",
       "       [6.000000e+00, 1.200000e+01, 2.473106e+04, 3.304612e+04,\n",
       "        7.312500e+02],\n",
       "       [2.000000e+00, 0.000000e+00, 1.442198e+04, 2.676209e+04,\n",
       "        1.559040e+03],\n",
       "       [2.000000e+00, 9.000000e+00, 8.552690e+03, 1.261085e+04,\n",
       "        1.691660e+03],\n",
       "       [5.000000e+00, 0.000000e+00, 6.684180e+03, 1.320932e+04,\n",
       "        2.228970e+03],\n",
       "       [9.000000e+00, 1.100000e+01, 1.897938e+04, 3.190274e+04,\n",
       "        7.698400e+02],\n",
       "       [6.000000e+00, 8.000000e+00, 2.515475e+04, 4.529124e+04,\n",
       "        6.698600e+02],\n",
       "       [3.000000e+00, 2.000000e+00, 2.295128e+04, 3.011445e+04,\n",
       "        1.918920e+03],\n",
       "       [4.000000e+00, 1.000000e+00, 1.351392e+04, 1.985770e+04,\n",
       "        4.044300e+02],\n",
       "       [5.000000e+00, 7.000000e+00, 5.483540e+03, 8.266980e+03,\n",
       "        2.614140e+03],\n",
       "       [1.000000e+00, 8.000000e+00, 2.904710e+04, 5.082883e+04,\n",
       "        2.003760e+03],\n",
       "       [1.000000e+00, 0.000000e+00, 2.914077e+04, 4.475672e+04,\n",
       "        2.509990e+03],\n",
       "       [9.000000e+00, 8.000000e+00, 1.794558e+04, 3.542348e+04,\n",
       "        8.048000e+02],\n",
       "       [0.000000e+00, 4.000000e+00, 1.059315e+04, 1.652868e+04,\n",
       "        2.172460e+03],\n",
       "       [3.000000e+00, 0.000000e+00, 2.122901e+04, 3.043461e+04,\n",
       "        2.554910e+03],\n",
       "       [0.000000e+00, 1.100000e+01, 9.794050e+03, 2.307674e+04,\n",
       "        1.941550e+03],\n",
       "       [3.000000e+00, 4.000000e+00, 1.364710e+04, 1.731420e+04,\n",
       "        3.484010e+03],\n",
       "       [1.000000e+00, 6.000000e+00, 2.371144e+04, 3.311682e+04,\n",
       "        2.539470e+03],\n",
       "       [2.000000e+00, 5.000000e+00, 9.803890e+03, 1.687317e+04,\n",
       "        1.551940e+03],\n",
       "       [1.000000e+00, 3.000000e+00, 2.991897e+04, 4.401818e+04,\n",
       "        2.127350e+03],\n",
       "       [1.000000e+00, 2.000000e+00, 2.961609e+04, 4.207044e+04,\n",
       "        2.179260e+03],\n",
       "       [2.000000e+00, 1.100000e+01, 1.283304e+04, 2.161843e+04,\n",
       "        1.882680e+03],\n",
       "       [8.000000e+00, 6.000000e+00, 5.767360e+04, 8.580195e+04,\n",
       "        1.075600e+02],\n",
       "       [7.000000e+00, 1.100000e+01, 1.277441e+04, 2.256030e+04,\n",
       "        1.595560e+03]])"
      ]
     },
     "execution_count": 8,
     "metadata": {},
     "output_type": "execute_result"
    }
   ],
   "source": [
    "# Splitting the dataset into the Training set and Test set\n",
    "from sklearn.model_selection import train_test_split\n",
    "X_train, X_test, y_train, y_test = train_test_split(X, y, test_size = 0.5, random_state = 1)\n",
    "X_train"
   ]
  },
  {
   "cell_type": "code",
   "execution_count": 9,
   "metadata": {},
   "outputs": [
    {
     "data": {
      "text/plain": [
       "'from sklearn.preprocessing import StandardScaler\\nsc_X = StandardScaler()\\nX_train = sc_X.fit_transform(X_train)\\nX_test = sc_X.transform(X_test)\\nsc_y = StandardScaler()\\ny_train = sc_y.fit_transform(y_train)'"
      ]
     },
     "execution_count": 9,
     "metadata": {},
     "output_type": "execute_result"
    }
   ],
   "source": [
    "# Feature Scaling\n",
    "\"\"\"from sklearn.preprocessing import StandardScaler\n",
    "sc_X = StandardScaler()\n",
    "X_train = sc_X.fit_transform(X_train)\n",
    "X_test = sc_X.transform(X_test)\n",
    "sc_y = StandardScaler()\n",
    "y_train = sc_y.fit_transform(y_train)\"\"\"\n",
    "\n"
   ]
  },
  {
   "cell_type": "code",
   "execution_count": 10,
   "metadata": {},
   "outputs": [
    {
     "data": {
      "text/plain": [
       "LinearRegression(copy_X=True, fit_intercept=True, n_jobs=None,\n",
       "         normalize=False)"
      ]
     },
     "execution_count": 10,
     "metadata": {},
     "output_type": "execute_result"
    }
   ],
   "source": [
    "\n",
    "# Fitting Multiple Linear Regression to the Training set\n",
    "from sklearn.linear_model import LinearRegression\n",
    "regressor = LinearRegression()\n",
    "regressor.fit(X_train, y_train)\n"
   ]
  },
  {
   "cell_type": "code",
   "execution_count": 11,
   "metadata": {},
   "outputs": [
    {
     "data": {
      "text/plain": [
       "array([-1.69492792e+02,  1.94081250e+02,  5.24358257e+01,  1.30651246e+02,\n",
       "       -3.20898684e+01, -5.47090263e+01,  4.61925289e+02, -2.34503707e+01,\n",
       "        6.60231035e+01,  8.18077704e+01,  9.13372938e+01,  4.24627739e+01,\n",
       "        4.59732826e+01, -5.67942333e-01,  7.05531976e+01,  4.57946233e+02,\n",
       "        2.34876995e+01, -5.90458848e+01,  5.02686329e+01, -3.12669542e+01,\n",
       "        1.77178535e+02,  6.07419557e+01,  5.68562326e+02,  1.43721326e+02,\n",
       "        3.83789099e+01])"
      ]
     },
     "execution_count": 11,
     "metadata": {},
     "output_type": "execute_result"
    }
   ],
   "source": [
    "y_pred = regressor.predict(X_test)\n",
    "y_pred"
   ]
  },
  {
   "cell_type": "code",
   "execution_count": 12,
   "metadata": {},
   "outputs": [
    {
     "data": {
      "text/plain": [
       "0.6751798122878265"
      ]
     },
     "execution_count": 12,
     "metadata": {},
     "output_type": "execute_result"
    }
   ],
   "source": [
    "from sklearn.metrics import r2_score\n",
    "r2_score(y_test,y_pred)"
   ]
  },
  {
   "cell_type": "code",
   "execution_count": 14,
   "metadata": {},
   "outputs": [
    {
     "data": {
      "text/plain": [
       "<matplotlib.axes._subplots.AxesSubplot at 0x1e1ce86d7f0>"
      ]
     },
     "execution_count": 14,
     "metadata": {},
     "output_type": "execute_result"
    },
    {
     "data": {
      "image/png": "[encoded data removed]",
      "text/plain": [
       "<Figure size 432x288 with 2 Axes>"
      ]
     },
     "metadata": {
      "needs_background": "light"
     },
     "output_type": "display_data"
    }
   ],
   "source": [
    "import seaborn as sns\n",
    "sns.heatmap(dataset.corr(),annot=True)"
   ]
  },
  {
   "cell_type": "code",
   "execution_count": null,
   "metadata": {},
   "outputs": [],
   "source": [
    "\n",
    "\n"
   ]
  },
  {
   "cell_type": "code",
   "execution_count": null,
   "metadata": {},
   "outputs": [],
   "source": []
  },
  {
   "cell_type": "code",
   "execution_count": null,
   "metadata": {},
   "outputs": [],
   "source": []
  }
 ],
 "metadata": {
  "kernelspec": {
   "display_name": "Python 3",
   "language": "python",
   "name": "python3"
  },
  "language_info": {
   "codemirror_mode": {
    "name": "ipython",
    "version": 3
   },
   "file_extension": ".py",
   "mimetype": "text/x-python",
   "name": "python",
   "nbconvert_exporter": "python",
   "pygments_lexer": "ipython3",
   "version": "3.7.3"
  }
 },
 "nbformat": 4,
 "nbformat_minor": 2
}
